{
 "cells": [
  {
   "cell_type": "code",
   "execution_count": 1,
   "id": "b35ca9bb",
   "metadata": {},
   "outputs": [],
   "source": [
    "import numpy as np\n",
    "import pandas as pd\n",
    "import matplotlib.pyplot as plt\n",
    "import seaborn as sns"
   ]
  },
  {
   "cell_type": "markdown",
   "id": "6784eb14",
   "metadata": {},
   "source": [
    "# 1. Read the dataset to the python environment."
   ]
  },
  {
   "cell_type": "code",
   "execution_count": 2,
   "id": "5e4391fb",
   "metadata": {},
   "outputs": [],
   "source": [
    "data=pd.read_excel('iris.xls')"
   ]
  },
  {
   "cell_type": "code",
   "execution_count": 3,
   "id": "095ab991",
   "metadata": {},
   "outputs": [
    {
     "data": {
      "text/html": [
       "<div>\n",
       "<style scoped>\n",
       "    .dataframe tbody tr th:only-of-type {\n",
       "        vertical-align: middle;\n",
       "    }\n",
       "\n",
       "    .dataframe tbody tr th {\n",
       "        vertical-align: top;\n",
       "    }\n",
       "\n",
       "    .dataframe thead th {\n",
       "        text-align: right;\n",
       "    }\n",
       "</style>\n",
       "<table border=\"1\" class=\"dataframe\">\n",
       "  <thead>\n",
       "    <tr style=\"text-align: right;\">\n",
       "      <th></th>\n",
       "      <th>SL</th>\n",
       "      <th>SW</th>\n",
       "      <th>PL</th>\n",
       "      <th>PW</th>\n",
       "      <th>Classification</th>\n",
       "    </tr>\n",
       "  </thead>\n",
       "  <tbody>\n",
       "    <tr>\n",
       "      <th>0</th>\n",
       "      <td>5.1</td>\n",
       "      <td>3.5</td>\n",
       "      <td>1.4</td>\n",
       "      <td>0.2</td>\n",
       "      <td>Iris-setosa</td>\n",
       "    </tr>\n",
       "    <tr>\n",
       "      <th>1</th>\n",
       "      <td>4.9</td>\n",
       "      <td>3.0</td>\n",
       "      <td>1.4</td>\n",
       "      <td>0.2</td>\n",
       "      <td>Iris-setosa</td>\n",
       "    </tr>\n",
       "    <tr>\n",
       "      <th>2</th>\n",
       "      <td>NaN</td>\n",
       "      <td>3.2</td>\n",
       "      <td>1.3</td>\n",
       "      <td>0.2</td>\n",
       "      <td>Iris-setosa</td>\n",
       "    </tr>\n",
       "    <tr>\n",
       "      <th>3</th>\n",
       "      <td>4.6</td>\n",
       "      <td>3.1</td>\n",
       "      <td>1.5</td>\n",
       "      <td>0.2</td>\n",
       "      <td>Iris-setosa</td>\n",
       "    </tr>\n",
       "    <tr>\n",
       "      <th>4</th>\n",
       "      <td>5.0</td>\n",
       "      <td>3.6</td>\n",
       "      <td>1.4</td>\n",
       "      <td>0.2</td>\n",
       "      <td>Iris-setosa</td>\n",
       "    </tr>\n",
       "  </tbody>\n",
       "</table>\n",
       "</div>"
      ],
      "text/plain": [
       "    SL   SW   PL   PW Classification\n",
       "0  5.1  3.5  1.4  0.2    Iris-setosa\n",
       "1  4.9  3.0  1.4  0.2    Iris-setosa\n",
       "2  NaN  3.2  1.3  0.2    Iris-setosa\n",
       "3  4.6  3.1  1.5  0.2    Iris-setosa\n",
       "4  5.0  3.6  1.4  0.2    Iris-setosa"
      ]
     },
     "execution_count": 3,
     "metadata": {},
     "output_type": "execute_result"
    }
   ],
   "source": [
    "data.head()"
   ]
  },
  {
   "cell_type": "markdown",
   "id": "bebdeb8b",
   "metadata": {},
   "source": [
    "# 2. Do necessary pre-processing steps.¶"
   ]
  },
  {
   "cell_type": "code",
   "execution_count": 4,
   "id": "dfba45b6",
   "metadata": {},
   "outputs": [
    {
     "data": {
      "text/plain": [
       "(150, 5)"
      ]
     },
     "execution_count": 4,
     "metadata": {},
     "output_type": "execute_result"
    }
   ],
   "source": [
    "data.shape"
   ]
  },
  {
   "cell_type": "code",
   "execution_count": 5,
   "id": "ad80e810",
   "metadata": {},
   "outputs": [
    {
     "name": "stdout",
     "output_type": "stream",
     "text": [
      "<class 'pandas.core.frame.DataFrame'>\n",
      "RangeIndex: 150 entries, 0 to 149\n",
      "Data columns (total 5 columns):\n",
      " #   Column          Non-Null Count  Dtype  \n",
      "---  ------          --------------  -----  \n",
      " 0   SL              143 non-null    float64\n",
      " 1   SW              144 non-null    float64\n",
      " 2   PL              144 non-null    float64\n",
      " 3   PW              150 non-null    float64\n",
      " 4   Classification  150 non-null    object \n",
      "dtypes: float64(4), object(1)\n",
      "memory usage: 6.0+ KB\n"
     ]
    }
   ],
   "source": [
    "data.info()"
   ]
  },
  {
   "cell_type": "code",
   "execution_count": 6,
   "id": "5afc046a",
   "metadata": {},
   "outputs": [
    {
     "data": {
      "text/plain": [
       "SL                7\n",
       "SW                6\n",
       "PL                6\n",
       "PW                0\n",
       "Classification    0\n",
       "dtype: int64"
      ]
     },
     "execution_count": 6,
     "metadata": {},
     "output_type": "execute_result"
    }
   ],
   "source": [
    "data.isna().sum()"
   ]
  },
  {
   "cell_type": "markdown",
   "id": "f91056fe",
   "metadata": {},
   "source": [
    "Columns Sepal Length Sepal Width and Petal Length has 7,6,6 null values respectively. "
   ]
  },
  {
   "cell_type": "code",
   "execution_count": 7,
   "id": "b71c735d",
   "metadata": {},
   "outputs": [],
   "source": [
    "#Checking data types"
   ]
  },
  {
   "cell_type": "code",
   "execution_count": 8,
   "id": "54013b30",
   "metadata": {},
   "outputs": [
    {
     "data": {
      "text/plain": [
       "SL                float64\n",
       "SW                float64\n",
       "PL                float64\n",
       "PW                float64\n",
       "Classification     object\n",
       "dtype: object"
      ]
     },
     "execution_count": 8,
     "metadata": {},
     "output_type": "execute_result"
    }
   ],
   "source": [
    "data.dtypes"
   ]
  },
  {
   "cell_type": "code",
   "execution_count": 9,
   "id": "748bb9a4",
   "metadata": {},
   "outputs": [],
   "source": [
    "#Checking the skewness of data"
   ]
  },
  {
   "cell_type": "code",
   "execution_count": 10,
   "id": "94a8d7ca",
   "metadata": {},
   "outputs": [
    {
     "data": {
      "image/png": "[encoded data removed]",
      "text/plain": [
       "<Figure size 360x360 with 4 Axes>"
      ]
     },
     "metadata": {
      "needs_background": "light"
     },
     "output_type": "display_data"
    }
   ],
   "source": [
    "freqgraph=data.select_dtypes(include=['float'])\n",
    "freqgraph.hist(figsize=(5,5))\n",
    "plt.show()"
   ]
  },
  {
   "cell_type": "code",
   "execution_count": 11,
   "id": "6096b4b2",
   "metadata": {},
   "outputs": [],
   "source": [
    "#Replacing the missing values with median"
   ]
  },
  {
   "cell_type": "code",
   "execution_count": 12,
   "id": "ed36379c",
   "metadata": {},
   "outputs": [],
   "source": [
    "data['SL']=data['SL'].fillna(data['SL'].median())\n",
    "data['SW']=data['SW'].fillna(data['SW'].median())\n",
    "data['PL']=data['PL'].fillna(data['PL'].median())"
   ]
  },
  {
   "cell_type": "code",
   "execution_count": 13,
   "id": "b4aea7d2",
   "metadata": {},
   "outputs": [
    {
     "data": {
      "text/plain": [
       "SL                0\n",
       "SW                0\n",
       "PL                0\n",
       "PW                0\n",
       "Classification    0\n",
       "dtype: int64"
      ]
     },
     "execution_count": 13,
     "metadata": {},
     "output_type": "execute_result"
    }
   ],
   "source": [
    "data.isna().sum()"
   ]
  },
  {
   "cell_type": "code",
   "execution_count": 14,
   "id": "d9650517",
   "metadata": {},
   "outputs": [],
   "source": [
    "#Now the missing values are replaced with their respective median values"
   ]
  },
  {
   "cell_type": "code",
   "execution_count": 15,
   "id": "9c131603",
   "metadata": {},
   "outputs": [],
   "source": [
    "#Checking for outliers, Plotting box plot of each column"
   ]
  },
  {
   "cell_type": "code",
   "execution_count": 16,
   "id": "8cc29941",
   "metadata": {},
   "outputs": [
    {
     "data": {
      "text/plain": [
       "Index(['SL', 'SW', 'PL', 'PW', 'Classification'], dtype='object')"
      ]
     },
     "execution_count": 16,
     "metadata": {},
     "output_type": "execute_result"
    }
   ],
   "source": [
    "data.columns"
   ]
  },
  {
   "cell_type": "code",
   "execution_count": 17,
   "id": "96a1aeaa",
   "metadata": {},
   "outputs": [
    {
     "data": {
      "text/plain": [
       "Text(0.5, 1.0, 'Sepal Length')"
      ]
     },
     "execution_count": 17,
     "metadata": {},
     "output_type": "execute_result"
    },
    {
     "data": {
      "image/png": "[encoded data removed]",
      "text/plain": [
       "<Figure size 432x288 with 1 Axes>"
      ]
     },
     "metadata": {
      "needs_background": "light"
     },
     "output_type": "display_data"
    }
   ],
   "source": [
    "plt.boxplot(data['SL'])\n",
    "plt.title('Sepal Length')"
   ]
  },
  {
   "cell_type": "code",
   "execution_count": 18,
   "id": "76ea3da5",
   "metadata": {},
   "outputs": [],
   "source": [
    "# No outliers in the column Sepal Length"
   ]
  },
  {
   "cell_type": "code",
   "execution_count": 19,
   "id": "f1463808",
   "metadata": {},
   "outputs": [
    {
     "data": {
      "text/plain": [
       "Text(0.5, 1.0, 'Sepal Width')"
      ]
     },
     "execution_count": 19,
     "metadata": {},
     "output_type": "execute_result"
    },
    {
     "data": {
      "image/png": "[encoded data removed]",
      "text/plain": [
       "<Figure size 432x288 with 1 Axes>"
      ]
     },
     "metadata": {
      "needs_background": "light"
     },
     "output_type": "display_data"
    }
   ],
   "source": [
    "plt.boxplot(data['SW'])\n",
    "plt.title('Sepal Width')"
   ]
  },
  {
   "cell_type": "code",
   "execution_count": 20,
   "id": "ce70f205",
   "metadata": {},
   "outputs": [],
   "source": [
    "#Outliers are present in sepal width. Managing outliers in sepal width "
   ]
  },
  {
   "cell_type": "code",
   "execution_count": 21,
   "id": "978062a3",
   "metadata": {},
   "outputs": [
    {
     "name": "stdout",
     "output_type": "stream",
     "text": [
      "2.8 \n",
      " 3.0 \n",
      " 3.25\n"
     ]
    }
   ],
   "source": [
    "Q1=np.percentile(data['SW'],25,interpolation='midpoint')\n",
    "Q2=np.percentile(data['SW'],50,interpolation='midpoint')\n",
    "Q3=np.percentile(data['SW'],75,interpolation='midpoint')\n",
    "print(Q1,'\\n',Q2,'\\n',Q3)"
   ]
  },
  {
   "cell_type": "code",
   "execution_count": 22,
   "id": "5422324a",
   "metadata": {},
   "outputs": [
    {
     "name": "stdout",
     "output_type": "stream",
     "text": [
      "0.4500000000000002 \n",
      " 2.1249999999999996 \n",
      " 3.9250000000000003\n"
     ]
    }
   ],
   "source": [
    "IQR=Q3-Q1\n",
    "low_limit=Q1-1.5*IQR\n",
    "Up_limit=Q3+1.5*IQR\n",
    "print(IQR,'\\n',low_limit,'\\n',Up_limit)"
   ]
  },
  {
   "cell_type": "code",
   "execution_count": 23,
   "id": "34f3f52e",
   "metadata": {},
   "outputs": [],
   "source": [
    "outlier=[]\n",
    "for x in data['SW']:\n",
    "    if((x>Up_limit) or (x<low_limit)):\n",
    "        outlier.append(x)"
   ]
  },
  {
   "cell_type": "code",
   "execution_count": 24,
   "id": "7078f8fc",
   "metadata": {},
   "outputs": [
    {
     "name": "stdout",
     "output_type": "stream",
     "text": [
      "[4.0, 4.4, 4.1, 4.2, 2.0]\n"
     ]
    }
   ],
   "source": [
    "print(outlier)"
   ]
  },
  {
   "cell_type": "code",
   "execution_count": 25,
   "id": "8f2501de",
   "metadata": {},
   "outputs": [
    {
     "data": {
      "text/plain": [
       "Int64Index([14, 15, 32, 33, 60], dtype='int64')"
      ]
     },
     "execution_count": 25,
     "metadata": {},
     "output_type": "execute_result"
    }
   ],
   "source": [
    "indx1=data['SW'][(data['SW']>Up_limit)|(data['SW']<low_limit)].index\n",
    "data.loc[indx1].index"
   ]
  },
  {
   "cell_type": "code",
   "execution_count": 26,
   "id": "bb53e672",
   "metadata": {},
   "outputs": [],
   "source": [
    "#Dropping the outliers"
   ]
  },
  {
   "cell_type": "code",
   "execution_count": 27,
   "id": "03d70d60",
   "metadata": {},
   "outputs": [],
   "source": [
    "data.drop([14, 15, 32, 33, 60],inplace=True)"
   ]
  },
  {
   "cell_type": "code",
   "execution_count": 28,
   "id": "fda4b05c",
   "metadata": {},
   "outputs": [
    {
     "data": {
      "text/plain": [
       "Text(0.5, 1.0, 'box plot of Sepal Width')"
      ]
     },
     "execution_count": 28,
     "metadata": {},
     "output_type": "execute_result"
    },
    {
     "data": {
      "image/png": "[encoded data removed]",
      "text/plain": [
       "<Figure size 432x288 with 1 Axes>"
      ]
     },
     "metadata": {
      "needs_background": "light"
     },
     "output_type": "display_data"
    }
   ],
   "source": [
    "plt.boxplot(data['SW'])\n",
    "plt.title('box plot of Sepal Width')"
   ]
  },
  {
   "cell_type": "code",
   "execution_count": 29,
   "id": "2f48b35d",
   "metadata": {},
   "outputs": [
    {
     "data": {
      "text/plain": [
       "Text(0.5, 1.0, 'Petal Length')"
      ]
     },
     "execution_count": 29,
     "metadata": {},
     "output_type": "execute_result"
    },
    {
     "data": {
      "image/png": "[encoded data removed]",
      "text/plain": [
       "<Figure size 432x288 with 1 Axes>"
      ]
     },
     "metadata": {
      "needs_background": "light"
     },
     "output_type": "display_data"
    }
   ],
   "source": [
    "plt.boxplot(data['PL'])\n",
    "plt.title('Petal Length')"
   ]
  },
  {
   "cell_type": "code",
   "execution_count": 30,
   "id": "8e417e93",
   "metadata": {},
   "outputs": [],
   "source": [
    "#No outliers in PL column"
   ]
  },
  {
   "cell_type": "code",
   "execution_count": 31,
   "id": "080322da",
   "metadata": {},
   "outputs": [
    {
     "data": {
      "text/plain": [
       "Text(0.5, 1.0, 'Petal Width')"
      ]
     },
     "execution_count": 31,
     "metadata": {},
     "output_type": "execute_result"
    },
    {
     "data": {
      "image/png": "[encoded data removed]",
      "text/plain": [
       "<Figure size 432x288 with 1 Axes>"
      ]
     },
     "metadata": {
      "needs_background": "light"
     },
     "output_type": "display_data"
    }
   ],
   "source": [
    "plt.boxplot(data['PW'])\n",
    "plt.title('Petal Width')"
   ]
  },
  {
   "cell_type": "code",
   "execution_count": 32,
   "id": "22e74928",
   "metadata": {},
   "outputs": [],
   "source": [
    "#No outliers in petal width"
   ]
  },
  {
   "cell_type": "code",
   "execution_count": 33,
   "id": "5df033e3",
   "metadata": {},
   "outputs": [
    {
     "data": {
      "text/plain": [
       "(145, 5)"
      ]
     },
     "execution_count": 33,
     "metadata": {},
     "output_type": "execute_result"
    }
   ],
   "source": [
    "data.shape"
   ]
  },
  {
   "cell_type": "code",
   "execution_count": 34,
   "id": "0019d166",
   "metadata": {},
   "outputs": [
    {
     "data": {
      "text/plain": [
       "3"
      ]
     },
     "execution_count": 34,
     "metadata": {},
     "output_type": "execute_result"
    }
   ],
   "source": [
    "data.Classification.nunique()"
   ]
  },
  {
   "cell_type": "code",
   "execution_count": 35,
   "id": "414ecdc2",
   "metadata": {},
   "outputs": [],
   "source": [
    "#Splitting data "
   ]
  },
  {
   "cell_type": "code",
   "execution_count": 36,
   "id": "d27f1cfe",
   "metadata": {},
   "outputs": [],
   "source": [
    "X=data.drop(['Classification'],axis=1)\n",
    "Y=data['Classification']"
   ]
  },
  {
   "cell_type": "code",
   "execution_count": 37,
   "id": "fd90cd6a",
   "metadata": {},
   "outputs": [],
   "source": [
    "#Normalization"
   ]
  },
  {
   "cell_type": "code",
   "execution_count": 38,
   "id": "2954b662",
   "metadata": {},
   "outputs": [
    {
     "data": {
      "text/html": [
       "<div>\n",
       "<style scoped>\n",
       "    .dataframe tbody tr th:only-of-type {\n",
       "        vertical-align: middle;\n",
       "    }\n",
       "\n",
       "    .dataframe tbody tr th {\n",
       "        vertical-align: top;\n",
       "    }\n",
       "\n",
       "    .dataframe thead th {\n",
       "        text-align: right;\n",
       "    }\n",
       "</style>\n",
       "<table border=\"1\" class=\"dataframe\">\n",
       "  <thead>\n",
       "    <tr style=\"text-align: right;\">\n",
       "      <th></th>\n",
       "      <th>0</th>\n",
       "      <th>1</th>\n",
       "      <th>2</th>\n",
       "      <th>3</th>\n",
       "    </tr>\n",
       "  </thead>\n",
       "  <tbody>\n",
       "    <tr>\n",
       "      <th>count</th>\n",
       "      <td>145.000000</td>\n",
       "      <td>145.000000</td>\n",
       "      <td>145.000000</td>\n",
       "      <td>145.000000</td>\n",
       "    </tr>\n",
       "    <tr>\n",
       "      <th>mean</th>\n",
       "      <td>0.750558</td>\n",
       "      <td>0.397703</td>\n",
       "      <td>0.465043</td>\n",
       "      <td>0.144106</td>\n",
       "    </tr>\n",
       "    <tr>\n",
       "      <th>std</th>\n",
       "      <td>0.048136</td>\n",
       "      <td>0.097243</td>\n",
       "      <td>0.154637</td>\n",
       "      <td>0.077887</td>\n",
       "    </tr>\n",
       "    <tr>\n",
       "      <th>min</th>\n",
       "      <td>0.631396</td>\n",
       "      <td>0.238392</td>\n",
       "      <td>0.168646</td>\n",
       "      <td>0.016695</td>\n",
       "    </tr>\n",
       "    <tr>\n",
       "      <th>25%</th>\n",
       "      <td>0.713666</td>\n",
       "      <td>0.325894</td>\n",
       "      <td>0.262330</td>\n",
       "      <td>0.051382</td>\n",
       "    </tr>\n",
       "    <tr>\n",
       "      <th>50%</th>\n",
       "      <td>0.747142</td>\n",
       "      <td>0.354212</td>\n",
       "      <td>0.539660</td>\n",
       "      <td>0.164742</td>\n",
       "    </tr>\n",
       "    <tr>\n",
       "      <th>75%</th>\n",
       "      <td>0.788928</td>\n",
       "      <td>0.507020</td>\n",
       "      <td>0.582878</td>\n",
       "      <td>0.197997</td>\n",
       "    </tr>\n",
       "    <tr>\n",
       "      <th>max</th>\n",
       "      <td>0.860939</td>\n",
       "      <td>0.607125</td>\n",
       "      <td>0.636981</td>\n",
       "      <td>0.280419</td>\n",
       "    </tr>\n",
       "  </tbody>\n",
       "</table>\n",
       "</div>"
      ],
      "text/plain": [
       "                0           1           2           3\n",
       "count  145.000000  145.000000  145.000000  145.000000\n",
       "mean     0.750558    0.397703    0.465043    0.144106\n",
       "std      0.048136    0.097243    0.154637    0.077887\n",
       "min      0.631396    0.238392    0.168646    0.016695\n",
       "25%      0.713666    0.325894    0.262330    0.051382\n",
       "50%      0.747142    0.354212    0.539660    0.164742\n",
       "75%      0.788928    0.507020    0.582878    0.197997\n",
       "max      0.860939    0.607125    0.636981    0.280419"
      ]
     },
     "execution_count": 38,
     "metadata": {},
     "output_type": "execute_result"
    }
   ],
   "source": [
    "from sklearn import preprocessing\n",
    "X=preprocessing.normalize(X)\n",
    "X=pd.DataFrame(X)\n",
    "X.describe()"
   ]
  },
  {
   "cell_type": "code",
   "execution_count": 39,
   "id": "4e9bb186",
   "metadata": {},
   "outputs": [],
   "source": [
    "#Splitting to test train set"
   ]
  },
  {
   "cell_type": "code",
   "execution_count": 40,
   "id": "d09bf745",
   "metadata": {},
   "outputs": [],
   "source": [
    "from sklearn.model_selection import train_test_split\n",
    "X_train,X_test,Y_train,Y_test=train_test_split(X,Y,random_state=42,test_size=0.2)"
   ]
  },
  {
   "cell_type": "markdown",
   "id": "1eccc939",
   "metadata": {},
   "source": [
    "# 3. Find out which classification model gives the best result to predict iris species.(also do random forest algorithm)"
   ]
  },
  {
   "cell_type": "markdown",
   "id": "a8aeb421",
   "metadata": {},
   "source": [
    "# 1. Logistic Regression"
   ]
  },
  {
   "cell_type": "code",
   "execution_count": 41,
   "id": "2aaabd73",
   "metadata": {},
   "outputs": [],
   "source": [
    "from sklearn.linear_model import LogisticRegression\n",
    "logit_model = LogisticRegression()\n",
    "logit_model.fit(X_train,Y_train)\n",
    "Y_predictions = logit_model.predict(X_test)"
   ]
  },
  {
   "cell_type": "code",
   "execution_count": 42,
   "id": "aa48d43b",
   "metadata": {},
   "outputs": [],
   "source": [
    "#to check how the model is worked checking accuracy precision f1 score confusion matrix"
   ]
  },
  {
   "cell_type": "code",
   "execution_count": 43,
   "id": "51498cd8",
   "metadata": {},
   "outputs": [],
   "source": [
    "from sklearn.metrics import confusion_matrix,accuracy_score,precision_score,recall_score,f1_score"
   ]
  },
  {
   "cell_type": "code",
   "execution_count": 44,
   "id": "b624bf33",
   "metadata": {},
   "outputs": [
    {
     "name": "stdout",
     "output_type": "stream",
     "text": [
      "Confusion matrix\n",
      " [[ 9  0  0]\n",
      " [ 0  4  5]\n",
      " [ 0  0 11]]\n",
      "Accuracy is:  0.8275862068965517\n",
      "Precision is:  0.8958333333333334\n",
      "Recall is:  0.8148148148148149\n",
      "f1 is:  0.8100664767331435\n"
     ]
    }
   ],
   "source": [
    "print('Confusion matrix\\n',confusion_matrix(Y_test,Y_predictions))\n",
    "print('Accuracy is: ',accuracy_score(Y_test,Y_predictions))\n",
    "print('Precision is: ',precision_score(Y_test,Y_predictions,average='macro'))\n",
    "print('Recall is: ' ,recall_score(Y_test,Y_predictions,average='macro'))\n",
    "print('f1 is: ' ,f1_score(Y_test,Y_predictions,average='macro'))"
   ]
  },
  {
   "cell_type": "markdown",
   "id": "3f7260ee",
   "metadata": {},
   "source": [
    "# kNN"
   ]
  },
  {
   "cell_type": "code",
   "execution_count": 45,
   "id": "f4b85dae",
   "metadata": {},
   "outputs": [],
   "source": [
    "from sklearn.neighbors import KNeighborsClassifier\n",
    "acc_value=[]\n",
    "neighbors=np.arange(3,15)\n",
    "for k in neighbors:\n",
    "    classifier=KNeighborsClassifier(n_neighbors=k,metric='minkowski')\n",
    "    classifier.fit(X_train,Y_train)\n",
    "    Y_predictions=classifier.predict(X_test)\n",
    "    acc=accuracy_score(Y_test,Y_predictions)\n",
    "    acc_value.append(acc)"
   ]
  },
  {
   "cell_type": "code",
   "execution_count": 46,
   "id": "a2250335",
   "metadata": {},
   "outputs": [
    {
     "data": {
      "text/plain": [
       "[0.9310344827586207,\n",
       " 0.896551724137931,\n",
       " 0.896551724137931,\n",
       " 0.896551724137931,\n",
       " 0.896551724137931,\n",
       " 0.896551724137931,\n",
       " 0.896551724137931,\n",
       " 0.896551724137931,\n",
       " 0.896551724137931,\n",
       " 0.896551724137931,\n",
       " 0.9310344827586207,\n",
       " 0.896551724137931]"
      ]
     },
     "execution_count": 46,
     "metadata": {},
     "output_type": "execute_result"
    }
   ],
   "source": [
    "acc_value"
   ]
  },
  {
   "cell_type": "code",
   "execution_count": 47,
   "id": "f2f9663d",
   "metadata": {},
   "outputs": [],
   "source": [
    "#plotting acc values vs k values"
   ]
  },
  {
   "cell_type": "code",
   "execution_count": 48,
   "id": "a8913e5c",
   "metadata": {},
   "outputs": [
    {
     "data": {
      "text/plain": [
       "Text(0, 0.5, 'acc_value')"
      ]
     },
     "execution_count": 48,
     "metadata": {},
     "output_type": "execute_result"
    },
    {
     "data": {
      "image/png": "[encoded data removed]",
      "text/plain": [
       "<Figure size 432x288 with 1 Axes>"
      ]
     },
     "metadata": {
      "needs_background": "light"
     },
     "output_type": "display_data"
    }
   ],
   "source": [
    "plt.plot(neighbors,acc_value,'o-')\n",
    "plt.xlabel('neighbors')\n",
    "plt.ylabel('acc_value')"
   ]
  },
  {
   "cell_type": "code",
   "execution_count": 49,
   "id": "264edb21",
   "metadata": {},
   "outputs": [],
   "source": [
    "#13 got highest accuracy value. a model  can be made with k as 13"
   ]
  },
  {
   "cell_type": "code",
   "execution_count": 50,
   "id": "6267ed43",
   "metadata": {},
   "outputs": [],
   "source": [
    "classifier=KNeighborsClassifier(n_neighbors=13,metric='minkowski')\n",
    "classifier.fit(X_train,Y_train)\n",
    "Y_predictions=classifier.predict(X_test)"
   ]
  },
  {
   "cell_type": "code",
   "execution_count": 51,
   "id": "c7773349",
   "metadata": {},
   "outputs": [],
   "source": [
    "#Checking the accuracy precision f1 score and confusion matrix values"
   ]
  },
  {
   "cell_type": "code",
   "execution_count": 52,
   "id": "820352ae",
   "metadata": {},
   "outputs": [
    {
     "name": "stdout",
     "output_type": "stream",
     "text": [
      "Confusion matrix\n",
      " [[ 9  0  0]\n",
      " [ 0  8  1]\n",
      " [ 0  1 10]]\n",
      "Accuracy is:  0.9310344827586207\n",
      "Precision is:  0.9326599326599326\n",
      "Recall is:  0.9326599326599326\n",
      "f1 is:  0.9326599326599326\n"
     ]
    }
   ],
   "source": [
    "print('Confusion matrix\\n',confusion_matrix(Y_test,Y_predictions))\n",
    "print('Accuracy is: ',accuracy_score(Y_test,Y_predictions))\n",
    "print('Precision is: ',precision_score(Y_test,Y_predictions,average='macro'))\n",
    "print('Recall is: ' ,recall_score(Y_test,Y_predictions,average='macro'))\n",
    "print('f1 is: ' ,f1_score(Y_test,Y_predictions,average='macro'))"
   ]
  },
  {
   "cell_type": "markdown",
   "id": "da1b6fdf",
   "metadata": {},
   "source": [
    "# SVM"
   ]
  },
  {
   "cell_type": "code",
   "execution_count": 53,
   "id": "f1aaea1d",
   "metadata": {},
   "outputs": [],
   "source": [
    "from sklearn.svm import SVC\n",
    "svm_linear=SVC(kernel='rbf')\n",
    "svm_linear.fit(X_train,Y_train)\n",
    "Y_predictions=svm_linear.predict(X_test)"
   ]
  },
  {
   "cell_type": "code",
   "execution_count": 54,
   "id": "5eb556ca",
   "metadata": {},
   "outputs": [
    {
     "name": "stdout",
     "output_type": "stream",
     "text": [
      "Confusion matrix\n",
      " [[ 9  0  0]\n",
      " [ 0  8  1]\n",
      " [ 0  0 11]]\n",
      "Accuracy is:  0.9655172413793104\n",
      "Precision is:  0.9722222222222222\n",
      "Recall is:  0.9629629629629629\n",
      "f1 is:  0.9658994032395567\n"
     ]
    }
   ],
   "source": [
    "print('Confusion matrix\\n',confusion_matrix(Y_test,Y_predictions))\n",
    "print('Accuracy is: ',accuracy_score(Y_test,Y_predictions))\n",
    "print('Precision is: ',precision_score(Y_test,Y_predictions,average='macro'))\n",
    "print('Recall is: ' ,recall_score(Y_test,Y_predictions,average='macro'))\n",
    "print('f1 is: ' ,f1_score(Y_test,Y_predictions,average='macro'))"
   ]
  },
  {
   "cell_type": "markdown",
   "id": "e91d3072",
   "metadata": {},
   "source": [
    "# Decision Tree"
   ]
  },
  {
   "cell_type": "code",
   "execution_count": 55,
   "id": "d4f53816",
   "metadata": {},
   "outputs": [],
   "source": [
    "from sklearn.tree import DecisionTreeClassifier\n",
    "dect_model=DecisionTreeClassifier()\n",
    "dect_model.fit(X_train,Y_train)\n",
    "Y_predictions=dect_model.predict(X_test)"
   ]
  },
  {
   "cell_type": "code",
   "execution_count": 56,
   "id": "661415b6",
   "metadata": {},
   "outputs": [
    {
     "name": "stdout",
     "output_type": "stream",
     "text": [
      "Confusion matrix\n",
      " [[ 9  0  0]\n",
      " [ 0  7  2]\n",
      " [ 0  0 11]]\n",
      "Accuracy is:  0.9310344827586207\n",
      "Precision is:  0.9487179487179488\n",
      "Recall is:  0.9259259259259259\n",
      "f1 is:  0.9305555555555555\n"
     ]
    }
   ],
   "source": [
    "print('Confusion matrix\\n',confusion_matrix(Y_test,Y_predictions))\n",
    "print('Accuracy is: ',accuracy_score(Y_test,Y_predictions))\n",
    "print('Precision is: ',precision_score(Y_test,Y_predictions,average='macro'))\n",
    "print('Recall is: ' ,recall_score(Y_test,Y_predictions,average='macro'))\n",
    "print('f1 is: ' ,f1_score(Y_test,Y_predictions,average='macro'))"
   ]
  },
  {
   "cell_type": "markdown",
   "id": "9d4e225a",
   "metadata": {},
   "source": [
    "# Random Forest"
   ]
  },
  {
   "cell_type": "code",
   "execution_count": 57,
   "id": "f0998482",
   "metadata": {},
   "outputs": [],
   "source": [
    "from sklearn.ensemble import RandomForestClassifier\n",
    "rf=RandomForestClassifier()\n",
    "rf.fit(X_train,Y_train)\n",
    "Y_predictions=rf.predict(X_test)"
   ]
  },
  {
   "cell_type": "code",
   "execution_count": 58,
   "id": "0a21578d",
   "metadata": {},
   "outputs": [
    {
     "name": "stdout",
     "output_type": "stream",
     "text": [
      "Confusion matrix\n",
      " [[ 9  0  0]\n",
      " [ 0  8  1]\n",
      " [ 0  0 11]]\n",
      "Accuracy is:  0.9655172413793104\n",
      "Precision is:  0.9722222222222222\n",
      "Recall is:  0.9629629629629629\n",
      "f1 is:  0.9658994032395567\n"
     ]
    }
   ],
   "source": [
    "print('Confusion matrix\\n',confusion_matrix(Y_test,Y_predictions))\n",
    "print('Accuracy is: ',accuracy_score(Y_test,Y_predictions))\n",
    "print('Precision is: ',precision_score(Y_test,Y_predictions,average='macro'))\n",
    "print('Recall is: ' ,recall_score(Y_test,Y_predictions,average='macro'))\n",
    "print('f1 is: ' ,f1_score(Y_test,Y_predictions,average='macro'))"
   ]
  },
  {
   "cell_type": "markdown",
   "id": "f3bd1421",
   "metadata": {},
   "source": [
    "Random Forest and Support Vector machine has highest accuracy compared to other models. Hence SVM and Random Forest classification models give the best result to predict iris\n",
    "species."
   ]
  },
  {
   "cell_type": "code",
   "execution_count": null,
   "id": "332756b0",
   "metadata": {},
   "outputs": [],
   "source": []
  }
 ],
 "metadata": {
  "kernelspec": {
   "display_name": "Python 3",
   "language": "python",
   "name": "python3"
  },
  "language_info": {
   "codemirror_mode": {
    "name": "ipython",
    "version": 3
   },
   "file_extension": ".py",
   "mimetype": "text/x-python",
   "name": "python",
   "nbconvert_exporter": "python",
   "pygments_lexer": "ipython3",
   "version": "3.8.8"
  }
 },
 "nbformat": 4,
 "nbformat_minor": 5
}
